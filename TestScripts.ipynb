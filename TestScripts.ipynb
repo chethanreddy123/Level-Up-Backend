{
 "cells": [
  {
   "cell_type": "code",
   "execution_count": 15,
   "id": "0178c315-c43b-463c-ae22-87702f5486bb",
   "metadata": {},
   "outputs": [
    {
     "name": "stdout",
     "output_type": "stream",
     "text": [
      "24-LEVELUP-124320180001-6072\n"
     ]
    }
   ],
   "source": [
    "import random\n",
    "import datetime\n",
    "\n",
    "def generate_unique_id():\n",
    "    # Get the current year and extract the last two digits\n",
    "    current_year = datetime.datetime.now().year\n",
    "    year_suffix = str(current_year)[-2:]\n",
    "    \n",
    "    # Generate a random 4-digit number\n",
    "    random_digits = str(random.randint(1000, 9999))\n",
    "    \n",
    "    # Get the current timestamp\n",
    "    timestamp = datetime.datetime.now().strftime(\"%H%M%S%f\")\n",
    "    \n",
    "    # Combine the parts to form the ID\n",
    "    unique_id = f\"{year_suffix}-LEVELUP-{timestamp}-{random_digits}\"\n",
    "    \n",
    "    return unique_id\n",
    "\n",
    "# Example usage\n",
    "print(generate_unique_id())\n"
   ]
  },
  {
   "cell_type": "code",
   "execution_count": 6,
   "id": "ad91f6e1-5833-44c4-9c37-4bf8a28a16fd",
   "metadata": {},
   "outputs": [
    {
     "name": "stdout",
     "output_type": "stream",
     "text": [
      "24LEVELUP0001\n"
     ]
    },
    {
     "data": {
      "text/plain": [
       "<pymongo.results.InsertOneResult at 0x11b066640>"
      ]
     },
     "execution_count": 6,
     "metadata": {},
     "output_type": "execute_result"
    }
   ],
   "source": [
    "import datetime\n",
    "from pymongo import ReturnDocument\n",
    "from app.database import User  # Import your User model\n",
    "\n",
    "def get_next_registration_id():\n",
    "    current_year = datetime.datetime.now().year\n",
    "    year_suffix = str(current_year)[-2:]\n",
    "\n",
    "    # Retrieve the most recent registration ID\n",
    "    recent_user = User.find_one(\n",
    "        {\"registration_id\": {\"$exists\": True}},\n",
    "        sort=[(\"_id\", -1)],\n",
    "        projection={\"registration_id\": True}\n",
    "    )\n",
    "\n",
    "    if recent_user and 'registration_id' in recent_user:\n",
    "        # Extract the year and sequence number from the most recent registration ID\n",
    "        last_id = recent_user['registration_id']\n",
    "        last_year = last_id[:2]\n",
    "        last_seq_num = int(last_id[-4:])\n",
    "\n",
    "        if last_year == year_suffix:\n",
    "            # Increment the sequence number if the year matches\n",
    "            next_seq_num = last_seq_num + 1\n",
    "        else:\n",
    "            # Reset the sequence number if the year doesn't match\n",
    "            next_seq_num = 1\n",
    "    else:\n",
    "        # If no users exist, start from 1\n",
    "        next_seq_num = 1\n",
    "\n",
    "    # Format the next ID\n",
    "    next_id = f\"{year_suffix}LEVELUP{next_seq_num:04d}\"\n",
    "\n",
    "    return next_id\n",
    "\n",
    "# Example usage\n",
    "new_registration_id = get_next_registration_id()\n",
    "print(new_registration_id)\n",
    "\n",
    "# Inserting a new user with the generated registration ID\n",
    "new_user = {\n",
    "    \"registration_id\": new_registration_id,\n",
    "    \"name\": \"Jaadnade Doe\",\n",
    "    \"email\": \"jaadnade.doe@example.com\",\n",
    "    \"photo\": \"https://example.com/photo.jpg\",\n",
    "    \"role\": \"GENERAL\",\n",
    "    \"created_at\": datetime.datetime.now(),\n",
    "    \"updated_at\": datetime.datetime.now()\n",
    "}\n",
    "User.insert_one(new_user)\n"
   ]
  },
  {
   "cell_type": "code",
   "execution_count": null,
   "id": "4f0d5360",
   "metadata": {},
   "outputs": [],
   "source": []
  }
 ],
 "metadata": {
  "kernelspec": {
   "display_name": "Python 3 (ipykernel)",
   "language": "python",
   "name": "python3"
  },
  "language_info": {
   "codemirror_mode": {
    "name": "ipython",
    "version": 3
   },
   "file_extension": ".py",
   "mimetype": "text/x-python",
   "name": "python",
   "nbconvert_exporter": "python",
   "pygments_lexer": "ipython3",
   "version": "3.9.19"
  }
 },
 "nbformat": 4,
 "nbformat_minor": 5
}
